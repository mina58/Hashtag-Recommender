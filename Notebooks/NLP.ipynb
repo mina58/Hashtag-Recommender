{
 "cells": [
  {
   "attachments": {},
   "cell_type": "markdown",
   "metadata": {},
   "source": [
    "## Get the data\n",
    "csv headings: id, created_at, source, original_text, clean_text, favorite_count, retweet_count, hashtags, trend <br>\n",
    "hashtags format: strings with comma separated hashtags"
   ]
  },
  {
   "cell_type": "code",
   "execution_count": null,
   "metadata": {},
   "outputs": [],
   "source": [
    "import numpy as np\n",
    "import random"
   ]
  },
  {
   "cell_type": "code",
   "execution_count": null,
   "metadata": {},
   "outputs": [],
   "source": [
    "#File paths\n",
    "US_tweets_file = '../Data/USTweets.csv'\n",
    "UK_tweets_file = '../Data/UKTweets.csv'\n",
    "CAN_tweets_file = '../Data/CANTweets.csv'\n",
    "IR_tweets_file = '../Data/IRTweets.csv'\n",
    "AUS_tweets_file = '../Data/AUSTweets.csv'"
   ]
  },
  {
   "cell_type": "code",
   "execution_count": null,
   "metadata": {},
   "outputs": [],
   "source": [
    "import csv\n",
    "\n",
    "tweets_and_hashtags = [] #to shuffle\n",
    "tweets = []\n",
    "hashtags = [] #list of lists of hashtags e.g. hashtags[0] = [\"hashtag1\", \"hashtag2\"]\n",
    "hashtags_strings = [] #list of hashtags string e.g. hashtags[0] = [\"hashtag1, hashtag2\"]\n"
   ]
  },
  {
   "cell_type": "code",
   "execution_count": null,
   "metadata": {},
   "outputs": [],
   "source": [
    "def read_file(file_name):\n",
    "    with open(file_name) as data_file:\n",
    "        data = csv.reader(data_file)\n",
    "        for row in data:\n",
    "            new_row = []\n",
    "            new_row.append(row[4])\n",
    "            new_row.append(row[7].split(\", \"))\n",
    "            new_row.append(row[7])\n",
    "            tweets_and_hashtags.append(new_row)"
   ]
  },
  {
   "cell_type": "code",
   "execution_count": null,
   "metadata": {},
   "outputs": [],
   "source": [
    "read_file(UK_tweets_file)\n",
    "read_file(IR_tweets_file)"
   ]
  },
  {
   "cell_type": "code",
   "execution_count": null,
   "metadata": {},
   "outputs": [],
   "source": [
    "random.shuffle(tweets_and_hashtags)\n",
    "for row in tweets_and_hashtags:\n",
    "    tweets.append(row[0])\n",
    "    hashtags.append(row[1])\n",
    "    hashtags_strings.append(row[2])\n",
    "\n",
    "del tweets_and_hashtags"
   ]
  },
  {
   "attachments": {},
   "cell_type": "markdown",
   "metadata": {},
   "source": [
    "## Initialize the tokenizers\n",
    "Will use a specialized tokenizer for the hashtags because we need to encode all the hashtags. It also does not matter if the encoding of the tweets match the encoding of the hashtags."
   ]
  },
  {
   "cell_type": "code",
   "execution_count": null,
   "metadata": {},
   "outputs": [],
   "source": [
    "from keras.preprocessing.text import Tokenizer\n",
    "\n",
    "tweets_tokenizer = Tokenizer(oov_token=\"<OOV>\")\n",
    "tweets_tokenizer.fit_on_texts(tweets)\n",
    "tweets_word_index = tweets_tokenizer.word_index\n",
    "tweets_index_word = tweets_tokenizer.index_word"
   ]
  },
  {
   "cell_type": "code",
   "execution_count": null,
   "metadata": {},
   "outputs": [],
   "source": [
    "hashtags_tokenizer = Tokenizer(oov_token=\"<OOV>\")\n",
    "hashtags_tokenizer.fit_on_texts(hashtags_strings)\n",
    "hashtags_word_index = hashtags_tokenizer.word_index\n",
    "hashtags_index_word = hashtags_tokenizer.index_word"
   ]
  },
  {
   "cell_type": "code",
   "execution_count": null,
   "metadata": {},
   "outputs": [],
   "source": [
    "print(f'There are {len(tweets)} tweets, ')\n",
    "print(f'the tweets contain {len(tweets_tokenizer.word_index)} different words.')\n",
    "print(f'There are {len(hashtags_tokenizer.word_index)} different hashtags')\n",
    "print('Here are the tokenized hashtags')\n",
    "print(hashtags_word_index)"
   ]
  },
  {
   "attachments": {},
   "cell_type": "markdown",
   "metadata": {},
   "source": [
    "## Prepare the pre-trained embeddings"
   ]
  },
  {
   "cell_type": "code",
   "execution_count": null,
   "metadata": {},
   "outputs": [],
   "source": [
    "import pickle\n",
    "\n",
    "num_tokens = len(tweets_word_index) + 1\n",
    "embedding_dim = 300\n",
    "hits = 0\n",
    "misses = 0\n",
    "\n",
    "embedding_matrix = np.zeros((num_tokens, embedding_dim))\n",
    "with open('../NLP/Embeddings/embeddings_index_object.pkl', 'rb') as embeddings_file:\n",
    "    embeddings_index = pickle.load(embeddings_file)\n",
    "    for word, i in tweets_word_index.items():\n",
    "        embedding_vector = embeddings_index.get(word)\n",
    "        if embedding_vector is not None:\n",
    "            # Words not found in embedding index will be all-zeros.\n",
    "            # This includes the representation for \"padding\" and \"OOV\"\n",
    "            if embedding_vector.shape == (300,):\n",
    "                embedding_matrix[i] = embedding_vector\n",
    "            hits += 1\n",
    "        else:\n",
    "            misses += 1"
   ]
  },
  {
   "cell_type": "code",
   "execution_count": null,
   "metadata": {},
   "outputs": [],
   "source": [
    "print(f'hits:{hits}, misses: {misses}')"
   ]
  },
  {
   "attachments": {},
   "cell_type": "markdown",
   "metadata": {},
   "source": [
    "## Create the sequences and pad them and one multi-hot encode the hashtags\n",
    "Will use a binary vector to encode the hashtags to the model can categorize the tweets. e.g. hashtags[0] = [tag1, tag2], and tag1 has encoding of 1 and tag2 has encoding 2, then the binary vector wil be [0 1 1 0 0 ... no_of_different_hashtags]"
   ]
  },
  {
   "cell_type": "code",
   "execution_count": null,
   "metadata": {},
   "outputs": [],
   "source": [
    "sequence_length = 20\n",
    "\n",
    "from keras.utils import pad_sequences\n",
    "tweets_sequences = tweets_tokenizer.texts_to_sequences(tweets)\n",
    "hashtags_sequences = hashtags_tokenizer.texts_to_sequences(hashtags)\n",
    "tweets_sequences_padded = pad_sequences(tweets_sequences, padding=\"post\", maxlen=sequence_length)"
   ]
  },
  {
   "cell_type": "code",
   "execution_count": null,
   "metadata": {},
   "outputs": [],
   "source": [
    "del tweets\n",
    "del hashtags"
   ]
  },
  {
   "cell_type": "code",
   "execution_count": null,
   "metadata": {},
<<<<<<< HEAD
   "outputs": [],
=======
   "outputs": [
    {
     "ename": "MemoryError",
     "evalue": "Unable to allocate 35.6 GiB for an array with shape (160231, 29785) and data type float64",
     "output_type": "error",
     "traceback": [
      "\u001B[1;31m---------------------------------------------------------------------------\u001B[0m",
      "\u001B[1;31mMemoryError\u001B[0m                               Traceback (most recent call last)",
      "Cell \u001B[1;32mIn[15], line 7\u001B[0m\n\u001B[0;32m      4\u001B[0m no_of_different_hashtags \u001B[39m=\u001B[39m \u001B[39mlen\u001B[39m(hashtags_word_index) \u001B[39m+\u001B[39m \u001B[39m1\u001B[39m\n\u001B[0;32m      5\u001B[0m no_of_hashtags \u001B[39m=\u001B[39m \u001B[39mlen\u001B[39m(hashtags_sequences)\n\u001B[1;32m----> 7\u001B[0m encoded_hashtags \u001B[39m=\u001B[39m np\u001B[39m.\u001B[39;49mzeros((no_of_hashtags, no_of_different_hashtags))\n\u001B[0;32m      9\u001B[0m \u001B[39mfor\u001B[39;00m i, hashtags_indices \u001B[39min\u001B[39;00m \u001B[39menumerate\u001B[39m(hashtags_sequences):\n\u001B[0;32m     10\u001B[0m     encoded_hashtags[i][hashtags_indices] \u001B[39m=\u001B[39m \u001B[39m1\u001B[39m\n",
      "\u001B[1;31mMemoryError\u001B[0m: Unable to allocate 35.6 GiB for an array with shape (160231, 29785) and data type float64"
     ]
    }
   ],
>>>>>>> 4ce68be230bd31caaeef02ccffaec5c4e22243ec
   "source": [
    "from keras.utils import to_categorical\n",
    "import tensorflow as tf\n",
    "\n",
    "no_of_different_hashtags = len(hashtags_word_index) + 1\n",
    "no_of_hashtags = len(hashtags_sequences)\n",
    "\n",
    "encoded_hashtags = np.zeros((no_of_hashtags, no_of_different_hashtags))\n",
    "\n",
    "for i, hashtags_indices in enumerate(hashtags_sequences):\n",
    "    encoded_hashtags[i][hashtags_indices] = 1"
   ]
  },
  {
   "attachments": {},
   "cell_type": "markdown",
   "metadata": {},
   "source": [
    "## Split the data"
   ]
  },
  {
   "cell_type": "code",
   "execution_count": null,
   "metadata": {},
   "outputs": [],
   "source": [
    "training_split = 0.8\n",
    "training_tweets_count = int(0.8 * len(tweets_sequences_padded))"
   ]
  },
  {
   "cell_type": "code",
   "execution_count": null,
   "metadata": {},
   "outputs": [],
   "source": [
    "train_data = tweets_sequences_padded[0:training_tweets_count]\n",
    "train_labels = encoded_hashtags[0:training_tweets_count]\n",
    "test_data = tweets_sequences_padded[training_tweets_count:]\n",
    "test_labels = encoded_hashtags[training_tweets_count:]\n",
    "\n",
    "print(f'we have {len(train_data)} tweets for training and {len(test_data)} for testing')"
   ]
  },
  {
   "cell_type": "code",
   "execution_count": null,
   "metadata": {},
   "outputs": [],
   "source": [
    "del tweets_sequences\n",
    "del tweets_sequences_padded\n",
    "del hashtags_strings\n",
    "del hashtags_sequences\n",
    "del encoded_hashtags"
   ]
  },
  {
   "cell_type": "markdown",
   "metadata": {},
   "source": [
    "## Build the model"
   ]
  },
  {
   "cell_type": "code",
   "execution_count": null,
   "metadata": {},
   "outputs": [],
   "source": [
    "#learning rate callback\n",
    "def lr_schedule(epoch):\n",
    "    lr = 0.001\n",
    "    if epoch > 8:\n",
    "        lr = 0.0005\n",
    "    return lr\n",
    "\n",
    "lr_scheduler = tf.keras.callbacks.LearningRateScheduler(lr_schedule)"
   ]
  },
  {
   "cell_type": "code",
   "execution_count": null,
   "metadata": {},
   "outputs": [],
   "source": [
    "#hyperparameters\n",
    "embedding_dimensions = 300\n",
    "lstm_units = 128\n",
    "dropout_value = 0.2\n",
    "conv_filters = 64\n",
    "conv_kernel_size = 5\n",
    "dense_layers = 10000"
   ]
  },
  {
   "cell_type": "code",
   "execution_count": null,
   "metadata": {},
   "outputs": [],
   "source": [
    "from keras import initializers\n",
    "\n",
    "no_of_tweets_words = len(tweets_word_index) + 1\n",
    "\n",
    "hashtag_recommender_model = tf.keras.Sequential([\n",
    "    tf.keras.layers.Embedding(no_of_tweets_words,\n",
    "                            embedding_dimensions,\n",
    "                            input_length=sequence_length,\n",
    "                            embeddings_initializer=initializers.Constant(embedding_matrix),\n",
    "                            trainable=True),\n",
    "    tf.keras.layers.Conv1D(conv_filters, conv_kernel_size, activation='relu'),\n",
    "    tf.keras.layers.Dropout(dropout_value),\n",
    "    # tf.keras.layers.Bidirectional(tf.keras.layers.LSTM(100, return_sequences=True)),\n",
    "    # tf.keras.layers.Dropout(dropout_value),\n",
    "    tf.keras.layers.Bidirectional(tf.keras.layers.LSTM(lstm_units)),\n",
    "    tf.keras.layers.Dropout(dropout_value),\n",
    "    # tf.keras.layers.Dense(dense_layers, activation='relu'),\n",
    "    # tf.keras.layers.Dropout(dropout_value),\n",
    "    tf.keras.layers.Dense(no_of_different_hashtags, activation='softmax')\n",
    "])\n",
    "\n",
    "hashtag_recommender_model.compile(\n",
    "    loss='categorical_crossentropy',\n",
    "    optimizer='adam',\n",
    "    metrics = ['accuracy'],\n",
    ")\n",
    "\n",
    "hashtag_recommender_model.summary()"
   ]
  },
  {
   "cell_type": "code",
   "execution_count": null,
   "metadata": {},
   "outputs": [],
   "source": [
    "del embedding_matrix"
   ]
  },
  {
   "attachments": {},
   "cell_type": "markdown",
   "metadata": {},
   "source": [
    "## Train the model"
   ]
  },
  {
   "cell_type": "code",
   "execution_count": null,
   "metadata": {},
   "outputs": [],
   "source": [
    "epochs = 12\n",
    "train_data_size = len(train_data)\n",
    "hashtag_recommender_model.fit(train_data, train_labels, epochs=epochs, validation_data=(test_data, test_labels), callbacks=[lr_scheduler])\n"
   ]
  },
  {
   "attachments": {},
   "cell_type": "markdown",
   "metadata": {},
   "source": [
    "## Get hashtags!!"
   ]
  },
  {
   "cell_type": "code",
   "execution_count": null,
   "metadata": {},
   "outputs": [],
   "source": [
    "def predict(tweet, tweet_tokenizer, hashtag_tokenizer, pad_length, model):\n",
    "    tweet_sequence = tweet_tokenizer.texts_to_sequences([tweet])[0]\n",
    "    padded_tweet_sequence = pad_sequences([tweet_sequence], maxlen=pad_length, padding='post')\n",
    "    prediction = (model.predict(padded_tweet_sequence))\n",
    "    hashtag_indices = np.argsort(prediction, axis=-1)[0][-3:]\n",
    "    return [hashtag_tokenizer.index_word[hashtag_index] for hashtag_index in hashtag_indices]\n"
   ]
  },
  {
   "cell_type": "code",
   "execution_count": null,
   "metadata": {},
   "outputs": [],
   "source": [
    "print(predict(\"I can't believe it\", tweets_tokenizer, hashtags_tokenizer, sequence_length, hashtag_recommender_model))"
   ]
  },
  {
   "cell_type": "code",
   "execution_count": null,
   "metadata": {},
   "outputs": [],
   "source": []
  }
 ],
 "metadata": {
  "kernelspec": {
   "display_name": "base",
   "language": "python",
   "name": "python3"
  },
  "language_info": {
   "codemirror_mode": {
    "name": "ipython",
    "version": 3
   },
   "file_extension": ".py",
   "mimetype": "text/x-python",
   "name": "python",
   "nbconvert_exporter": "python",
   "pygments_lexer": "ipython3",
   "version": "3.10.9"
  },
  "orig_nbformat": 4
 },
 "nbformat": 4,
 "nbformat_minor": 2
}
